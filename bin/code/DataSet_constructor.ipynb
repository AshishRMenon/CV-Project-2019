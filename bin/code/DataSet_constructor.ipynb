{
 "cells": [
  {
   "cell_type": "code",
   "execution_count": 143,
   "metadata": {
    "scrolled": true
   },
   "outputs": [
    {
     "name": "stdout",
     "output_type": "stream",
     "text": [
      "200 200\n"
     ]
    }
   ],
   "source": [
    "from skimage import io\n",
    "from matplotlib import pyplot as plt\n",
    "import os\n",
    "gtlist=[]\n",
    "imglist=[]\n",
    "data=os.listdir('./BSR/BSDS500/data/groundTruth/train/')\n",
    "addr='./BSR/BSDS500/data/groundTruth/train/'\n",
    "for i in range(len(data)):\n",
    "    mat=scipy.io.loadmat(addr+str(data[i]))   \n",
    "    gt=mat['groundTruth'][0,1][0,0][1]\n",
    "    gtlist.append(gt)\n",
    "    img=io.imread('./BSR/BSDS500/data/images/train/'+ data[i].split('.')[0]+'.jpg')\n",
    "    imglist.append(img)\n",
    "    \n",
    "# io.imshow(a1,cmap='gray')\n",
    "# io.show()\n",
    "# io.imshow(b,cmap='gray')\n",
    "# io.show()\n",
    "# io.imshow(b1,cmap='gray')\n",
    "# io.show()\n",
    "# io.imshow(c,cmap='gray')\n",
    "# io.show()\n",
    "# io.imshow(c1,cmap='gray')\n",
    "# io.show()\n",
    "\n",
    "print(len(gtlist),len(imglist))"
   ]
  },
  {
   "cell_type": "code",
   "execution_count": null,
   "metadata": {},
   "outputs": [],
   "source": [
    "for k in range(len(listA)):\n",
    "    a=gtlist[k]\n",
    "    a_im=imglist[k]\n",
    "    for i in range (a.shape[0]):\n",
    "        for j in range (a.shape[1]):\n",
    "            patch=a[i:16+i,j:16+j]\n",
    "            patch_img=a_im[i:16+i,j:16+j]\n",
    "            d['array']=patch_img\n",
    "            theta=46\n",
    "            d=2.5\n",
    "            bins_theta = numpy.linspace(-90,90,9)\n",
    "            theta_digitized = numpy.digitize(theta, bins_theta)\n",
    "            bins_d = numpy.linspace(-8,8,17)\n",
    "            d_digitized = numpy.digitize(d, bins_d)\n",
    "            if not os.path.exists('./output/{}_{}'.format(d_digitized,theta_digitized)):\n",
    "                os.makedirs('./output/{}_{}'.format(d_digitized,theta_digitized))\n",
    "            scipy.io.savemat('./output/{}_{}/{}.mat'.format(d_digitized,theta_digitized,k),a_im,appendmat=True,do_compression=True)\n",
    "\n",
    "        \n",
    "        \n",
    "             \n",
    "        \n",
    "        \n",
    "         \n",
    "       \n",
    "        \n",
    "        \n",
    "    "
   ]
  },
  {
   "cell_type": "code",
   "execution_count": 4,
   "metadata": {},
   "outputs": [],
   "source": [
    "def getDandTheta(a):\n",
    "    \n",
    "    xc,yc = np.int(np.floor(a.shape[0]/2)),np.int(np.floor(a.shape[1]/2))\n",
    "    orig = np.array([xc,yc])\n",
    "    \n",
    "    \n",
    "    locx,locy = np.where(a == 1)\n",
    "    o = np.array(list(zip(locx,locy)))\n",
    "    d = np.sqrt(np.sum((o-orig)**2,axis=1))\n",
    "    nep = o[np.argmin(np.sqrt(np.sum((o-orig)**2,axis=1)))]\n",
    "    \n",
    "    theta = np.arctan((o[1,0]-o[2,0])/(o[1,1]-o[2,1]))\n",
    "    angle = (theta*180)/np.pi\n",
    "    return np.min(d),angle\n",
    "    "
   ]
  }
 ],
 "metadata": {
  "kernelspec": {
   "display_name": "Python 3",
   "language": "python",
   "name": "python3"
  },
  "language_info": {
   "codemirror_mode": {
    "name": "ipython",
    "version": 3
   },
   "file_extension": ".py",
   "mimetype": "text/x-python",
   "name": "python",
   "nbconvert_exporter": "python",
   "pygments_lexer": "ipython3",
   "version": "3.7.1"
  }
 },
 "nbformat": 4,
 "nbformat_minor": 2
}

{
 "cells": [
  {
   "cell_type": "code",
   "execution_count": 1,
   "metadata": {},
   "outputs": [],
   "source": [
    "import numpy as np"
   ]
  },
  {
   "cell_type": "code",
   "execution_count": 79,
   "metadata": {},
   "outputs": [],
   "source": [
    "a = np.array([\n",
    "            [0,0,0,0,0,1,0],\n",
    "            [0,0,0,0,0,1,0],\n",
    "            [0,0,0,0,0,1,0],\n",
    "            [0,0,0,0,0,1,0],\n",
    "            [0,0,0,0,0,1,0],\n",
    "            [0,0,0,0,0,1,0],\n",
    "            [0,0,0,0,0,1,0]\n",
    "])"
   ]
  },
  {
   "cell_type": "code",
   "execution_count": 80,
   "metadata": {},
   "outputs": [],
   "source": [
    "def getDandTheta(a):\n",
    "    \n",
    "    xc,yc = np.int(np.floor(a.shape[0]/2)),np.int(np.floor(a.shape[1]/2))\n",
    "    orig = np.array([xc,yc])\n",
    "    print(\"orig\",orig)\n",
    "    \n",
    "    locx,locy = np.where(a == 1)\n",
    "    o = np.array(list(zip(locx,locy)))\n",
    "    d = np.sqrt(np.sum((o-orig)**2,axis=1))\n",
    "    nep = o[np.argmin(np.sqrt(np.sum((o-orig)**2,axis=1)))]\n",
    "    print(\"distance d:\",np.min(d))\n",
    "    print(\"nearest edge point index:\",nep)\n",
    "    \n",
    "    theta = np.arctan((o[1,0]-o[2,0])/(o[1,1]-o[2,1]))\n",
    "    print(\"radians:\",theta)\n",
    "    angle = (theta*180)/np.pi\n",
    "    print(\"angle:\",angle)\n",
    "    "
   ]
  },
  {
   "cell_type": "code",
   "execution_count": 81,
   "metadata": {},
   "outputs": [
    {
     "name": "stdout",
     "output_type": "stream",
     "text": [
      "orig [3 3]\n",
      "distance d: 2.0\n",
      "nearest edge point index: [3 5]\n",
      "radians: -1.5707963267948966\n",
      "angle: -90.0\n"
     ]
    },
    {
     "name": "stderr",
     "output_type": "stream",
     "text": [
      "/home/deepak/anaconda3/lib/python3.7/site-packages/ipykernel_launcher.py:14: RuntimeWarning: divide by zero encountered in long_scalars\n",
      "  \n"
     ]
    }
   ],
   "source": [
    "getDandTheta(a)"
   ]
  },
  {
   "cell_type": "code",
   "execution_count": null,
   "metadata": {},
   "outputs": [],
   "source": []
  }
 ],
 "metadata": {
  "kernelspec": {
   "display_name": "Python 3",
   "language": "python",
   "name": "python3"
  },
  "language_info": {
   "codemirror_mode": {
    "name": "ipython",
    "version": 3
   },
   "file_extension": ".py",
   "mimetype": "text/x-python",
   "name": "python",
   "nbconvert_exporter": "python",
   "pygments_lexer": "ipython3",
   "version": "3.7.1"
  }
 },
 "nbformat": 4,
 "nbformat_minor": 2
}

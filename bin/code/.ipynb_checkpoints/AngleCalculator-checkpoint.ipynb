{
 "cells": [
  {
   "cell_type": "code",
   "execution_count": 11,
   "metadata": {
    "ExecuteTime": {
     "end_time": "2019-03-22T11:25:37.743294Z",
     "start_time": "2019-03-22T11:25:37.738115Z"
    }
   },
   "outputs": [],
   "source": [
    "import matlab.engine as me\n",
    "import matlab\n",
    "import time\n",
    "import numpy as np"
   ]
  },
  {
   "cell_type": "code",
   "execution_count": 12,
   "metadata": {
    "ExecuteTime": {
     "end_time": "2019-03-22T11:25:37.838329Z",
     "start_time": "2019-03-22T11:25:37.747066Z"
    }
   },
   "outputs": [],
   "source": [
    "def getPatch():\n",
    "#     a= np.array([\n",
    "#     [1,1,1,0,0,0,0,0,1,0,1,0,1,1,1,1],\n",
    "#     [1,0,1,0,0,0,0,0,0,0,0,0,1,1,0,0],\n",
    "#     [1,0,1,0,0,0,0,0,0,0,0,0,1,1,0,0],\n",
    "#     [1,0,1,0,0,0,0,0,0,0,0,0,1,1,0,0],\n",
    "#     [1,0,1,0,0,0,0,0,0,0,0,0,1,1,0,0],\n",
    "#     [1,0,0,0,0,0,0,0,0,0,0,0,1,1,0,0],\n",
    "#     [1,0,0,0,0,0,0,0,0,0,0,0,0,0,0,0],\n",
    "#     [1,0,0,0,0,0,0,0,0,0,0,0,0,0,0,0],\n",
    "#     [1,0,0,0,0,1,0,0,0,0,0,0,0,0,0,0],\n",
    "#     [1,0,0,0,0,0,0,0,0,0,0,0,0,0,0,0],\n",
    "#     [1,0,0,0,0,0,0,0,0,0,0,0,0,0,0,0],\n",
    "#     [1,1,0,0,0,0,0,0,0,0,0,0,0,0,0,0],\n",
    "#     [1,1,0,1,0,0,0,0,0,0,0,0,0,0,0,0],\n",
    "#     [1,1,0,0,0,0,0,1,0,0,0,0,0,0,0,0],\n",
    "#     [1,1,0,0,1,0,0,0,0,0,0,0,0,0,1,1],\n",
    "#     [1,1,0,0,0,0,0,0,0,0,0,0,0,0,1,0], \n",
    "#    ])\n",
    "\n",
    "#     a= np.array([\n",
    "#     [1,0,0,0,0,0,0,0,0,0,0,0,0,0,0,0],\n",
    "#     [1,0,0,0,0,0,0,0,0,0,0,0,0,0,0,0],\n",
    "#     [1,0,0,0,0,0,0,0,0,0,0,0,0,0,0,0],\n",
    "#     [1,0,0,0,0,0,0,0,0,0,0,0,0,0,0,0],\n",
    "#     [1,0,0,0,0,0,0,0,0,0,0,0,0,0,0,0],\n",
    "#     [1,0,0,0,0,0,0,0,0,0,0,0,0,0,0,0],\n",
    "#     [1,0,0,0,0,0,0,0,0,0,0,0,0,0,0,0],\n",
    "#     [1,0,0,0,0,0,0,0,0,0,0,0,0,0,0,0],\n",
    "#     [1,0,0,0,0,0,0,0,0,0,0,0,0,0,0,0],\n",
    "#     [1,0,0,0,0,0,0,0,0,0,0,0,0,0,0,0],\n",
    "#     [1,0,0,0,0,0,0,0,0,0,0,0,0,0,0,0],\n",
    "#     [1,1,0,0,0,0,0,0,0,0,0,0,0,0,0,0],\n",
    "#     [1,1,0,0,0,0,0,0,0,0,0,0,0,0,0,0],\n",
    "#     [1,1,0,0,0,0,0,0,0,0,0,0,0,0,0,0],\n",
    "#     [1,1,0,0,0,0,0,0,0,0,0,0,0,0,0,0],\n",
    "#     [1,1,0,0,0,0,0,0,0,0,0,0,0,0,0,0], \n",
    "#    ])\n",
    "\n",
    "    a= np.array([\n",
    "        [0,0,0,0,0,0,0,0,0,0,0,0,0,0,0,0],\n",
    "        [0,0,0,0,0,0,0,0,0,0,0,0,0,0,0,0],\n",
    "        [0,0,0,0,0,0,0,0,0,0,1,0,0,0,0,0],\n",
    "        [0,0,0,0,0,0,0,0,0,1,0,0,0,0,0,0],\n",
    "        [0,0,0,0,0,0,0,0,1,0,0,0,0,0,0,0],\n",
    "        [0,0,0,0,0,0,0,1,0,0,0,0,0,0,0,0],\n",
    "        [0,0,0,0,0,0,1,0,0,0,0,0,0,0,0,0],\n",
    "        [0,0,0,0,0,1,0,0,0,0,0,0,0,0,0,0],\n",
    "        [0,0,0,0,1,0,0,0,0,0,0,0,0,0,0,0],\n",
    "        [0,0,0,1,0,0,0,0,0,0,0,0,0,0,0,0],\n",
    "        [0,0,1,0,0,0,0,0,0,0,0,0,0,0,0,0],\n",
    "        [0,1,0,0,0,0,0,0,0,0,0,0,0,0,0,0],\n",
    "        [0,0,0,0,0,0,0,0,0,0,0,0,0,0,0,0],\n",
    "        [0,0,0,0,0,0,0,0,0,0,0,0,0,0,0,0],\n",
    "        [0,0,0,0,0,0,0,0,0,0,0,0,0,0,0,0],\n",
    "        [0,0,0,0,0,0,0,0,0,0,0,0,0,0,0,0], \n",
    "       ])\n",
    "\n",
    "#     a= np.array([\n",
    "#             [0,0,0,0,0,0,0,0,0,0,0,0,0,0,0,0],\n",
    "#             [0,0,0,0,0,0,0,0,0,0,0,0,0,0,0,0],\n",
    "#             [0,0,1,0,0,0,0,0,0,0,0,0,0,0,0,0],\n",
    "#             [0,0,0,1,0,0,0,0,0,0,0,0,0,0,0,0],\n",
    "#             [0,0,0,0,1,0,0,0,0,0,0,0,0,0,0,0],\n",
    "#             [0,0,0,0,0,1,0,0,0,0,0,0,0,0,0,0],\n",
    "#             [0,0,0,0,0,0,1,0,0,0,0,0,0,0,0,0],\n",
    "#             [0,0,0,0,0,0,0,1,0,0,0,0,0,0,0,0],\n",
    "#             [0,0,0,0,0,0,0,0,1,0,0,0,0,0,0,0],\n",
    "#             [0,0,0,0,0,0,0,0,0,1,0,0,0,0,0,0],\n",
    "#             [0,0,0,0,0,0,0,0,0,0,1,0,0,0,0,0],\n",
    "#             [0,0,0,0,0,0,0,0,0,0,0,1,0,0,0,0],\n",
    "#             [0,0,0,0,0,0,0,0,0,0,0,0,0,0,0,0],\n",
    "#             [0,0,0,0,0,0,0,0,0,0,0,0,0,0,0,0],\n",
    "#             [0,0,0,0,0,0,0,0,0,0,0,0,0,0,0,0],\n",
    "#             [0,0,0,0,0,0,0,0,0,0,0,0,0,0,0,0], \n",
    "#            ])\n",
    "    \n",
    "    return a"
   ]
  },
  {
   "cell_type": "code",
   "execution_count": 13,
   "metadata": {
    "ExecuteTime": {
     "end_time": "2019-03-22T11:25:37.964358Z",
     "start_time": "2019-03-22T11:25:37.842054Z"
    }
   },
   "outputs": [],
   "source": [
    "def getMinimumDistanceToLists(locOfOnes,orig):\n",
    "    minDistDict = {}\n",
    "    for i in range(len(locOfOnes)):\n",
    "        dists = []\n",
    "        tempList = locOfOnes[i]\n",
    "        for j in range(len(tempList)):\n",
    "            dist = np.sqrt(np.sum((orig-tempList[j])**2))\n",
    "            dists.append(dist)\n",
    "            \n",
    "#             print(\"distances\",orig,tempList[j],dist)\n",
    "            \n",
    "        minDist = np.min(dists)\n",
    "        \n",
    "        minDistDict[i]=minDist\n",
    "        \n",
    "    \n",
    "    return minDistDict\n",
    "    "
   ]
  },
  {
   "cell_type": "code",
   "execution_count": 14,
   "metadata": {
    "ExecuteTime": {
     "end_time": "2019-03-22T11:25:38.037392Z",
     "start_time": "2019-03-22T11:25:37.967155Z"
    }
   },
   "outputs": [],
   "source": [
    "def getNearestPixelToOrig(nearestEdgeList,orig):\n",
    "    dists = []\n",
    "    for i in range(len(nearestEdgeList)):\n",
    "        dist = np.sqrt(np.sum((orig-nearestEdgeList[i])**2))\n",
    "        dists.append(dist)\n",
    "        \n",
    "    nearestPixel = nearestEdgeList[np.argmin(dists),:]\n",
    "    return nearestPixel"
   ]
  },
  {
   "cell_type": "code",
   "execution_count": 15,
   "metadata": {
    "ExecuteTime": {
     "end_time": "2019-03-22T11:26:20.481838Z",
     "start_time": "2019-03-22T11:25:38.041495Z"
    }
   },
   "outputs": [],
   "source": [
    "#initiate the matlab engine\n",
    "mEng = me.start_matlab()\n",
    "\n",
    "#get the image patch from anywhere\n",
    "# patch = getPatch()\n",
    "# patchSize = patch.shape[0]\n",
    "\n",
    "\n",
    "def getUpdatedDandTheta(patch):\n",
    "    data = patch.tolist()\n",
    "    imageMat = matlab.uint8(data)\n",
    "    imageMat.reshape((patch.shape[0],patch.shape[1]))\n",
    "    [locOfOnes,edgeMat,edgeType] = mEng.edgelink(imageMat,nargout=3)\n",
    "    \n",
    "#     print(x)\n",
    "#     print(y)\n",
    "#     print(z)\n",
    "    \n",
    "    edgeMat = np.array(edgeMat,dtype=int)\n",
    "    edgeMat = edgeMat > 0\n",
    "    edgeMat = edgeMat.astype(int)\n",
    "    \n",
    "    tempx = []\n",
    "    for i in range(len(locOfOnes)):\n",
    "        tempx.append(np.array(locOfOnes[i])-1)\n",
    "        tempx[i] = tempx[i].astype(int)\n",
    "    \n",
    "    locOfOnes = tempx\n",
    "#     print(locOfOnes)\n",
    "#     print(edgeMat)\n",
    "#     print(edgeType)\n",
    "    \n",
    "    xc,yc = np.int(np.floor(patch.shape[0]/2)),np.int(np.floor(patch.shape[1]/2))\n",
    "    orig = np.array([xc,yc])\n",
    "    \n",
    "#     print(orig)\n",
    "    \n",
    "    #find the distance from orig to all pixel location in the\n",
    "    #locOfOnes list\n",
    "    \n",
    "    minDistDict = getMinimumDistanceToLists(locOfOnes,orig)\n",
    "    \n",
    "#     print(minDistDict)\n",
    "    \n",
    "    minListIndex = list(minDistDict.keys())[np.argmin(list(minDistDict.values()))]\n",
    "    \n",
    "    nearestEdgeList = locOfOnes[minListIndex]\n",
    "    \n",
    "    nearestPixel = getNearestPixelToOrig(nearestEdgeList,orig)\n",
    "    \n",
    "#     print(nearestEdgeList)\n",
    "#     print(nearestPixel)\n",
    "    \n",
    "    d = np.sqrt(np.sum((orig-nearestPixel)**2))\n",
    "    \n",
    "    nears = np.array(np.where((nearestEdgeList == (nearestPixel[0], nearestPixel[1])).all(axis=1)))\n",
    "    nearIdx = nears[0][0]\n",
    "    \n",
    "    lowIdx = 0\n",
    "    if(nearIdx - 6 < 0):\n",
    "        lowIdx = 0\n",
    "    else:\n",
    "        lowIdx = nearIdx - 6\n",
    "        \n",
    "    highIdx = nearIdx + 6\n",
    "    \n",
    "    pixelsToFit = nearestEdgeList[lowIdx:highIdx,:]\n",
    "#     print(pixelsToFit)\n",
    "    \n",
    "    \n",
    "    #call polyfit to the nearestEdgeList\n",
    "    z = np.polyfit(pixelsToFit[:,0],pixelsToFit[:,1],1)\n",
    "    theta = np.rad2deg(np.arctan(1/z[0]))\n",
    "    \n",
    "    return d,theta\n",
    "    \n",
    "    \n",
    "    \n",
    "    "
   ]
  },
  {
   "cell_type": "code",
   "execution_count": 49,
   "metadata": {
    "ExecuteTime": {
     "end_time": "2019-03-22T11:27:00.599202Z",
     "start_time": "2019-03-22T11:27:00.547344Z"
    }
   },
   "outputs": [
    {
     "data": {
      "text/plain": [
       "(2.8284271247461903, -44.99999999999999)"
      ]
     },
     "execution_count": 49,
     "metadata": {},
     "output_type": "execute_result"
    }
   ],
   "source": [
    "# getUpdatedDandTheta(patch)"
   ]
  },
  {
   "cell_type": "code",
   "execution_count": null,
   "metadata": {
    "ExecuteTime": {
     "end_time": "2019-03-21T16:35:20.331592Z",
     "start_time": "2019-03-21T16:35:20.326237Z"
    }
   },
   "outputs": [],
   "source": []
  },
  {
   "cell_type": "code",
   "execution_count": null,
   "metadata": {},
   "outputs": [],
   "source": []
  }
 ],
 "metadata": {
  "kernelspec": {
   "display_name": "Python 3",
   "language": "python",
   "name": "python3"
  },
  "language_info": {
   "codemirror_mode": {
    "name": "ipython",
    "version": 3
   },
   "file_extension": ".py",
   "mimetype": "text/x-python",
   "name": "python",
   "nbconvert_exporter": "python",
   "pygments_lexer": "ipython3",
   "version": "3.6.5"
  },
  "varInspector": {
   "cols": {
    "lenName": 16,
    "lenType": 16,
    "lenVar": 40
   },
   "kernels_config": {
    "python": {
     "delete_cmd_postfix": "",
     "delete_cmd_prefix": "del ",
     "library": "var_list.py",
     "varRefreshCmd": "print(var_dic_list())"
    },
    "r": {
     "delete_cmd_postfix": ") ",
     "delete_cmd_prefix": "rm(",
     "library": "var_list.r",
     "varRefreshCmd": "cat(var_dic_list()) "
    }
   },
   "types_to_exclude": [
    "module",
    "function",
    "builtin_function_or_method",
    "instance",
    "_Feature"
   ],
   "window_display": false
  }
 },
 "nbformat": 4,
 "nbformat_minor": 2
}

{
 "cells": [
  {
   "cell_type": "code",
   "execution_count": 76,
   "metadata": {
    "ExecuteTime": {
     "end_time": "2019-02-28T19:52:08.326921Z",
     "start_time": "2019-02-28T19:51:59.711411Z"
    }
   },
   "outputs": [],
   "source": [
    "import numpy as np\n",
    "from skimage import io"
   ]
  },
  {
   "cell_type": "code",
   "execution_count": 85,
   "metadata": {
    "ExecuteTime": {
     "end_time": "2019-02-28T19:54:15.056572Z",
     "start_time": "2019-02-28T19:54:15.031199Z"
    }
   },
   "outputs": [
    {
     "data": {
      "text/plain": [
       "(array([1, 2, 3]), array([1, 2, 3]))"
      ]
     },
     "execution_count": 85,
     "metadata": {},
     "output_type": "execute_result"
    }
   ],
   "source": [
    "a = np.array([\n",
    "            [0,0,0,0,0,1,0],\n",
    "            [0,0,0,0,0,1,0],\n",
    "            [0,0,0,0,0,1,0],\n",
    "            [0,0,0,0,0,1,0],\n",
    "            [0,0,0,0,0,1,0],\n",
    "            [0,0,0,0,0,1,0],\n",
    "            [0,0,0,0,0,1,0]\n",
    "])\n",
    "\n",
    "\n",
    "c = np.array([\n",
    "            [0,0,0,0,0,0,0],\n",
    "            [0,1,0,0,0,0,0],\n",
    "            [0,0,1,0,0,0,0],\n",
    "            [0,0,0,1,0,0,0],\n",
    "            [0,0,0,0,0,0,0],\n",
    "            [0,0,0,0,0,0,0],\n",
    "            [0,0,0,0,0,0,0]\n",
    "])\n",
    "np.where(c==1)"
   ]
  },
  {
   "cell_type": "code",
   "execution_count": 86,
   "metadata": {
    "ExecuteTime": {
     "end_time": "2019-02-28T19:54:15.422084Z",
     "start_time": "2019-02-28T19:54:15.412989Z"
    }
   },
   "outputs": [
    {
     "name": "stderr",
     "output_type": "stream",
     "text": [
      "/home/deepak/anaconda3/lib/python3.6/site-packages/ipykernel_launcher.py:5: RuntimeWarning: divide by zero encountered in long_scalars\n",
      "  \"\"\"\n"
     ]
    },
    {
     "data": {
      "text/plain": [
       "90.0"
      ]
     },
     "execution_count": 86,
     "metadata": {},
     "output_type": "execute_result"
    }
   ],
   "source": [
    "def getThetaInDegrees(o):\n",
    "#     print(o)\n",
    "    #presently this returns in radians\n",
    "    if(o.shape[0] >= 2):\n",
    "        theta = -np.arctan((o[0,0]-o[1,0])/(o[0,1]-o[1,1]))\n",
    "        #theta = -np.arctan((o[0,1]-o[1,1])/o[0,0]-o[1,0])\n",
    "       \n",
    "    return theta*180/np.pi\n",
    "\n",
    "getThetaInDegrees(np.array([[1,1],[2,1]]))"
   ]
  },
  {
   "cell_type": "code",
   "execution_count": 92,
   "metadata": {
    "ExecuteTime": {
     "end_time": "2019-02-28T19:59:02.578556Z",
     "start_time": "2019-02-28T19:59:02.566340Z"
    }
   },
   "outputs": [],
   "source": [
    "def checkForSign(nep,orig):\n",
    "    retVal = 0\n",
    "#     print(\"origin\",orig)\n",
    "#     print(\"nep\",nep)\n",
    "    \n",
    "    diff = orig-nep\n",
    "    print(\"difference:\",diff)\n",
    "    \n",
    "    x = diff[0]\n",
    "    y = diff[1]\n",
    "    \n",
    "    \n",
    "    if x > 0 :\n",
    "        if y < 0:\n",
    "            retVal = -1\n",
    "            return retVal\n",
    "        if y > 0:\n",
    "            retVal = +1\n",
    "            return retVal\n",
    "        if y == 0:\n",
    "            retVal = +1\n",
    "            return retVal\n",
    "        \n",
    "    if x < 0 :\n",
    "        if y < 0:\n",
    "            retVal = +1\n",
    "            return retVal\n",
    "        if y > 0:\n",
    "            retVal = -1\n",
    "            return retVal\n",
    "        if y == 0:\n",
    "            retVal = -1\n",
    "            return retVal\n",
    "        \n",
    "    if x == 0 :\n",
    "        if y < 0:\n",
    "            retVal = +1\n",
    "            return retVal\n",
    "        if y > 0:\n",
    "            retVal = -1\n",
    "            return retVal\n",
    "        if y == 0:\n",
    "            retVal = 0\n",
    "            return retVal\n",
    "            "
   ]
  },
  {
   "cell_type": "code",
   "execution_count": 93,
   "metadata": {
    "ExecuteTime": {
     "end_time": "2019-02-28T19:59:03.193078Z",
     "start_time": "2019-02-28T19:59:03.185818Z"
    }
   },
   "outputs": [],
   "source": [
    "#TODO check d for vertical and horizontal lines\n",
    "\n",
    "def getDandTheta(a):\n",
    "    actualD = 0\n",
    "    xc,yc = np.int(np.floor(a.shape[0]/2)),np.int(np.floor(a.shape[1]/2))\n",
    "    orig = np.array([xc,yc])\n",
    "    print(\"orig\",orig)\n",
    "    \n",
    "    #find locations of pixels\n",
    "    locx,locy = np.where(a == 1)\n",
    "    \n",
    "    o = np.array(list(zip(locx,locy)))\n",
    "    \n",
    "    dVals = np.sqrt(np.sum((o-orig)**2,axis=1))\n",
    "    \n",
    "    nep = o[np.argmin(np.sqrt(np.sum((o-orig)**2,axis=1)))]\n",
    "    print(\"nearest edge point index:\",nep)\n",
    "    print(\"distances:\",dVals)\n",
    "    \n",
    "    signCheck = checkForSign(nep,orig)\n",
    "    d = np.min(dVals)\n",
    "    actualD =  signCheck*d\n",
    "    \n",
    "    print(\"distance d:\",actualD)\n",
    "    \n",
    "    thetaInDegrees = getThetaInDegrees(o)\n",
    "    print(\"angle:\",thetaInDegrees)\n",
    "    \n",
    "    io.imshow(a*255)\n",
    "    io.show()\n",
    "    \n",
    "    "
   ]
  },
  {
   "cell_type": "code",
   "execution_count": 108,
   "metadata": {
    "ExecuteTime": {
     "end_time": "2019-02-28T20:02:59.651116Z",
     "start_time": "2019-02-28T20:02:59.635281Z"
    }
   },
   "outputs": [],
   "source": [
    "b = np.array([\n",
    "            [0,0,0,0,0,0,0],\n",
    "            [0,0,0,0,0,0,0],\n",
    "            [0,0,0,0,0,0,0],\n",
    "            [0,0,0,.5,0,0,0],\n",
    "            [0,0,0,0,0,0,0],\n",
    "            [0,0,0,0,0,0,0],\n",
    "            [0,0,0,0,0,0,0]\n",
    "])"
   ]
  },
  {
   "cell_type": "code",
   "execution_count": 109,
   "metadata": {
    "ExecuteTime": {
     "end_time": "2019-02-28T20:03:00.641562Z",
     "start_time": "2019-02-28T20:03:00.341623Z"
    }
   },
   "outputs": [
    {
     "name": "stdout",
     "output_type": "stream",
     "text": [
      "orig [3 3]\n",
      "nearest edge point index: [2 3]\n",
      "distances: [4.24264069 2.82842712 1.41421356 1.         1.41421356]\n",
      "difference: [1 0]\n",
      "distance d: 1.0\n",
      "angle: -45.0\n"
     ]
    },
    {
     "name": "stderr",
     "output_type": "stream",
     "text": [
      "/home/deepak/anaconda3/lib/python3.6/site-packages/skimage/io/_plugins/matplotlib_plugin.py:51: FutureWarning: Conversion of the second argument of issubdtype from `float` to `np.floating` is deprecated. In future, it will be treated as `np.float64 == np.dtype(float).type`.\n",
      "  out_of_range_float = (np.issubdtype(image.dtype, np.float) and\n",
      "/home/deepak/anaconda3/lib/python3.6/site-packages/skimage/io/_plugins/matplotlib_plugin.py:77: UserWarning: Float image out of standard range; displaying image with stretched contrast.\n",
      "  warn(\"Float image out of standard range; displaying \"\n",
      "/home/deepak/anaconda3/lib/python3.6/site-packages/matplotlib/axes/_base.py:1334: MatplotlibDeprecationWarning: \n",
      "box-forced\n",
      "  \"2.2\", \"box-forced\", obj_type=\"keyword argument\")\n"
     ]
    },
    {
     "data": {
      "image/png": "[encoded data removed]",
      "text/plain": [
       "<Figure size 432x288 with 2 Axes>"
      ]
     },
     "metadata": {},
     "output_type": "display_data"
    }
   ],
   "source": [
    "getDandTheta(b)"
   ]
  },
  {
   "cell_type": "code",
   "execution_count": null,
   "metadata": {},
   "outputs": [],
   "source": []
  }
 ],
 "metadata": {
  "kernelspec": {
   "display_name": "Python 3",
   "language": "python",
   "name": "python3"
  },
  "language_info": {
   "codemirror_mode": {
    "name": "ipython",
    "version": 3
   },
   "file_extension": ".py",
   "mimetype": "text/x-python",
   "name": "python",
   "nbconvert_exporter": "python",
   "pygments_lexer": "ipython3",
   "version": "3.6.8"
  },
  "varInspector": {
   "cols": {
    "lenName": 16,
    "lenType": 16,
    "lenVar": 40
   },
   "kernels_config": {
    "python": {
     "delete_cmd_postfix": "",
     "delete_cmd_prefix": "del ",
     "library": "var_list.py",
     "varRefreshCmd": "print(var_dic_list())"
    },
    "r": {
     "delete_cmd_postfix": ") ",
     "delete_cmd_prefix": "rm(",
     "library": "var_list.r",
     "varRefreshCmd": "cat(var_dic_list()) "
    }
   },
   "types_to_exclude": [
    "module",
    "function",
    "builtin_function_or_method",
    "instance",
    "_Feature"
   ],
   "window_display": false
  }
 },
 "nbformat": 4,
 "nbformat_minor": 2
}

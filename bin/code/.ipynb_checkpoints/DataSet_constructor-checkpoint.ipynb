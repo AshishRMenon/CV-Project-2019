{
 "cells": [
  {
   "cell_type": "code",
   "execution_count": null,
   "metadata": {
    "scrolled": true
   },
   "outputs": [],
   "source": [
    "from skimage import io\n",
    "from matplotlib import pyplot as plt\n",
    "import skimage\n",
    "import sklearn\n",
    "import scipy.io\n",
    "import os\n",
    "gtlist=[]\n",
    "imglist=[]\n",
    "data=os.listdir('./BSR/BSDS500/data/groundTruth/train/')\n",
    "addr='./BSR/BSDS500/data/groundTruth/train/'\n",
    "for i in range(len(data)):\n",
    "    mat=scipy.io.loadmat(addr+str(data[i]))   \n",
    "    gt=mat['groundTruth'][0,1][0,0][1]\n",
    "    gtlist.append(gt)\n",
    "    img=io.imread('./BSR/BSDS500/data/images/train/'+ data[i].split('.')[0]+'.jpg')\n",
    "    imglist.append(img)\n",
    "    \n",
    "# io.imshow(a1,cmap='gray')\n",
    "# io.show()\n",
    "# io.imshow(b,cmap='gray')\n",
    "# io.show()\n",
    "# io.imshow(b1,cmap='gray')\n",
    "# io.show()\n",
    "# io.imshow(c,cmap='gray')\n",
    "# io.show()\n",
    "# io.imshow(c1,cmap='gray')\n",
    "# io.show()\n",
    "\n",
    "print(len(gtlist),len(imglist))"
   ]
  },
  {
   "cell_type": "code",
   "execution_count": null,
   "metadata": {},
   "outputs": [],
<<<<<<< HEAD
   "source": []
  },
  {
   "cell_type": "code",
   "execution_count": null,
   "metadata": {},
   "outputs": [],
=======
>>>>>>> a2a7d737c46d144dcd44e04fafa91e64fa3eee7f
   "source": [
    "import numpy \n",
    "d={}\n",
    "for k in range(len(gtlist)):\n",
    "    a=gtlist[k]\n",
    "    a_im=imglist[k]\n",
    "    for i in range (a.shape[0]):\n",
    "        for j in range (a.shape[1]):\n",
    "            patch=a[i:16+i,j:16+j]\n",
    "            patch_img=a_im[i:16+i,j:16+j]\n",
    "            d['array']=patch_img\n",
    "            locx,locy = np.where(patch == 1)\n",
    "            if len(list(zip(locx,locy)))<2:\n",
    "                if not os.path.exists('./output/background'):\n",
    "                    os.makedirs('./output/background')\n",
    "                scipy.io.savemat('./output/background/'+str(k)+'_'+str(i)+'_'+str(j)+'_'+'16.mat',d,appendmat=True,do_compression=True)\n",
    "            \n",
    "            else:\n",
    "                dist,theta=getDandTheta(patch)\n",
    "                bins_theta = numpy.linspace(-90,90,9)\n",
    "                theta_digitized = numpy.digitize(theta, bins_theta)\n",
    "                bins_d = numpy.linspace(-7,7,15)\n",
    "                d_digitized = numpy.digitize(dist, bins_d)\n",
    "                if not os.path.exists('./output/{}_{}'.format(d_digitized,theta_digitized)):\n",
    "                    os.makedirs('./output/{}_{}'.format(d_digitized,theta_digitized))\n",
    "                scipy.io.savemat('./output/{}_{}/{}_{}_{}_16.mat'.format(d_digitized,theta_digitized,k,i,j),d,appendmat=True,do_compression=True)\n",
    "\n",
    "        \n",
    "        \n",
    "             \n",
    "        \n",
    "        \n",
    "         \n",
    "       \n",
    "        \n",
    "        \n",
    "    "
   ]
  },
  {
   "cell_type": "code",
   "execution_count": null,
   "metadata": {},
   "outputs": [],
   "source": [
    "def getThetaInDegrees(o):\n",
    "    if(o.shape[0] >= 2):\n",
    "        theta = -np.arctan((o[0,0]-o[1,0])/(o[0,1]-o[1,1]))\n",
    "        #theta = -np.arctan((o[0,1]-o[1,1])/o[0,0]-o[1,0])\n",
    "       \n",
    "    return theta*180/np.pi\n",
    "\n",
    "\n",
    "\n",
    "def checkForSign(nep,orig):\n",
    "    retVal = 0\n",
    "#     print(\"origin\",orig)\n",
    "#     print(\"nep\",nep)\n",
    "    \n",
    "    diff = orig-nep\n",
    "    \n",
    "    x = diff[0]\n",
    "    y = diff[1]\n",
    "    \n",
    "    \n",
    "    if x > 0 :\n",
    "        if y < 0:\n",
    "            retVal = -1\n",
    "            return retVal\n",
    "        if y > 0:\n",
    "            retVal = +1\n",
    "            return retVal\n",
    "        if y == 0:\n",
    "            retVal = +1\n",
    "            return retVal\n",
    "        \n",
    "    if x < 0 :\n",
    "        if y < 0:\n",
    "            retVal = +1\n",
    "            return retVal\n",
    "        if y > 0:\n",
    "            retVal = -1\n",
    "            return retVal\n",
    "        if y == 0:\n",
    "            retVal = -1\n",
    "            return retVal\n",
    "        \n",
    "    if x == 0 :\n",
    "        if y < 0:\n",
    "            retVal = +1\n",
    "            return retVal\n",
    "        if y > 0:\n",
    "            retVal = -1\n",
    "            return retVal\n",
    "        if y == 0:\n",
    "            retVal = 0\n",
    "            return retVal\n",
    "            \n",
    "\n",
    "\n",
    "def getDandTheta(a):\n",
    "    actualD = 0\n",
    "    xc,yc = np.int(np.floor(a.shape[0]/2)),np.int(np.floor(a.shape[1]/2))\n",
    "    orig = np.array([xc,yc])\n",
    "    \n",
    "    #find locations of pixels\n",
    "    locx,locy = np.where(a == 1)\n",
    "    \n",
    "    o = np.array(list(zip(locx,locy)))\n",
    "    \n",
    "    dVals = np.sqrt(np.sum((o-orig)**2,axis=1))\n",
    "    \n",
    "    nep = o[np.argmin(np.sqrt(np.sum((o-orig)**2,axis=1)))]\n",
    "    \n",
    "    signCheck = checkForSign(nep,orig)\n",
    "    d = np.min(dVals)\n",
    "    actualD =  signCheck*d\n",
    "    \n",
    "    \n",
    "    thetaInDegrees = getThetaInDegrees(o)\n",
    "    return actualD,thetaInDegrees"
   ]
  }
 ],
 "metadata": {
  "kernelspec": {
   "display_name": "Python 3",
   "language": "python",
   "name": "python3"
  },
  "language_info": {
   "codemirror_mode": {
    "name": "ipython",
    "version": 3
   },
   "file_extension": ".py",
   "mimetype": "text/x-python",
   "name": "python",
   "nbconvert_exporter": "python",
   "pygments_lexer": "ipython3",
<<<<<<< HEAD
   "version": "3.7.1"
=======
   "version": "3.6.8"
  },
  "varInspector": {
   "cols": {
    "lenName": 16,
    "lenType": 16,
    "lenVar": 40
   },
   "kernels_config": {
    "python": {
     "delete_cmd_postfix": "",
     "delete_cmd_prefix": "del ",
     "library": "var_list.py",
     "varRefreshCmd": "print(var_dic_list())"
    },
    "r": {
     "delete_cmd_postfix": ") ",
     "delete_cmd_prefix": "rm(",
     "library": "var_list.r",
     "varRefreshCmd": "cat(var_dic_list()) "
    }
   },
   "types_to_exclude": [
    "module",
    "function",
    "builtin_function_or_method",
    "instance",
    "_Feature"
   ],
   "window_display": false
>>>>>>> a2a7d737c46d144dcd44e04fafa91e64fa3eee7f
  }
 },
 "nbformat": 4,
 "nbformat_minor": 2
}
